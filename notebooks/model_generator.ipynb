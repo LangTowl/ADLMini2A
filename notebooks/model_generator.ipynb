{
 "cells": [
  {
   "cell_type": "code",
   "id": "initial_id",
   "metadata": {
    "collapsed": true,
    "ExecuteTime": {
     "end_time": "2025-03-15T19:34:44.999007Z",
     "start_time": "2025-03-15T19:34:44.996546Z"
    }
   },
   "source": [
    "import os\n",
    "import keras\n",
    "import pandas\n",
    "import seaborn as sns\n",
    "from sklearn.preprocessing import LabelEncoder\n",
    "from sklearn.preprocessing import StandardScaler\n",
    "from sklearn.model_selection import train_test_split\n"
   ],
   "outputs": [],
   "execution_count": 38
  },
  {
   "metadata": {
    "ExecuteTime": {
     "end_time": "2025-03-15T19:34:45.021200Z",
     "start_time": "2025-03-15T19:34:45.018579Z"
    }
   },
   "cell_type": "code",
   "source": [
    "# Define paths to dataset\n",
    "path_to_test = \"../data/raw/test.csv\"\n",
    "path_to_train = \"../data/raw/train.csv\"\n",
    "\n",
    "# Validate paths to data\n",
    "print(f\"Path to test.csv -> {'VALID' if os.path.exists(path_to_test) else 'INVALID'}\")\n",
    "print(f\"Path to train.csv -> {'VALID' if os.path.exists(path_to_train) else 'INVALID'}\")"
   ],
   "id": "d43b88bf76e03f0d",
   "outputs": [
    {
     "name": "stdout",
     "output_type": "stream",
     "text": [
      "Path to test.csv -> VALID\n",
      "Path to train.csv -> VALID\n"
     ]
    }
   ],
   "execution_count": 39
  },
  {
   "metadata": {
    "ExecuteTime": {
     "end_time": "2025-03-15T19:34:45.405407Z",
     "start_time": "2025-03-15T19:34:45.025179Z"
    }
   },
   "cell_type": "code",
   "source": [
    "# Load csvs into DataFrame\n",
    "test_df = pandas.read_csv(path_to_test)\n",
    "train_df = pandas.read_csv(path_to_train)"
   ],
   "id": "b6207ea73e5f5144",
   "outputs": [],
   "execution_count": 40
  },
  {
   "metadata": {
    "ExecuteTime": {
     "end_time": "2025-03-15T19:34:45.419474Z",
     "start_time": "2025-03-15T19:34:45.417504Z"
    }
   },
   "cell_type": "code",
   "source": [
    "# Show shape of dataset (rows x columns)\n",
    "print(f\"Test shape -> {test_df.shape}\")\n",
    "print(f\"Train shape -> {train_df.shape}\")"
   ],
   "id": "6bc8f2d48e136695",
   "outputs": [
    {
     "name": "stdout",
     "output_type": "stream",
     "text": [
      "Test shape -> (2947, 563)\n",
      "Train shape -> (7352, 563)\n"
     ]
    }
   ],
   "execution_count": 41
  },
  {
   "metadata": {
    "ExecuteTime": {
     "end_time": "2025-03-15T19:34:45.576204Z",
     "start_time": "2025-03-15T19:34:45.431388Z"
    }
   },
   "cell_type": "code",
   "source": [
    "# Test for duplicates\n",
    "print(f\"Duplicates in test -> {test_df.duplicated().sum()}\")\n",
    "print(f\"Duplicates in train -> {train_df.duplicated().sum()}\")"
   ],
   "id": "cd4c34919df1bc1",
   "outputs": [
    {
     "name": "stdout",
     "output_type": "stream",
     "text": [
      "Duplicates in test -> 0\n",
      "Duplicates in train -> 0\n"
     ]
    }
   ],
   "execution_count": 42
  },
  {
   "metadata": {
    "ExecuteTime": {
     "end_time": "2025-03-15T19:34:46.479172Z",
     "start_time": "2025-03-15T19:34:45.588195Z"
    }
   },
   "cell_type": "code",
   "source": [
    "# Check columns with duplicate labels\n",
    "print(f\"Duplicate columns in test -> {len(test_df.columns[test_df.T.duplicated().tolist()])}\")\n",
    "print(f\"Duplicate columns in train -> {len(train_df.columns[train_df.T.duplicated().tolist()])}\")"
   ],
   "id": "83dcafbfb54a1dc2",
   "outputs": [
    {
     "name": "stdout",
     "output_type": "stream",
     "text": [
      "Duplicate columns in test -> 21\n",
      "Duplicate columns in train -> 21\n"
     ]
    }
   ],
   "execution_count": 43
  },
  {
   "metadata": {
    "ExecuteTime": {
     "end_time": "2025-03-15T19:34:47.237305Z",
     "start_time": "2025-03-15T19:34:46.490143Z"
    }
   },
   "cell_type": "code",
   "source": [
    "# Remove duplicates\n",
    "test_df = test_df.drop(test_df.columns[test_df.T.duplicated().tolist()], axis = 1)\n",
    "train_df = train_df.drop(train_df.columns[train_df.T.duplicated().tolist()], axis = 1)"
   ],
   "id": "aaa082f6a70d8e34",
   "outputs": [],
   "execution_count": 44
  },
  {
   "metadata": {
    "ExecuteTime": {
     "end_time": "2025-03-15T19:34:48.073711Z",
     "start_time": "2025-03-15T19:34:47.249608Z"
    }
   },
   "cell_type": "code",
   "source": [
    "# Re-check columns with duplicate labels\n",
    "print(f\"Duplicate columns in test -> {len(test_df.columns[test_df.T.duplicated().tolist()])}\")\n",
    "print(f\"Duplicate columns in train -> {len(train_df.columns[train_df.T.duplicated().tolist()])}\")"
   ],
   "id": "35b428dd0e159444",
   "outputs": [
    {
     "name": "stdout",
     "output_type": "stream",
     "text": [
      "Duplicate columns in test -> 0\n",
      "Duplicate columns in train -> 0\n"
     ]
    }
   ],
   "execution_count": 45
  },
  {
   "metadata": {
    "ExecuteTime": {
     "end_time": "2025-03-15T19:34:48.101990Z",
     "start_time": "2025-03-15T19:34:48.095472Z"
    }
   },
   "cell_type": "code",
   "source": [
    "# Test for missing values\n",
    "print(f\"Missing data in test -> {test_df.isnull().sum()}\\n\")\n",
    "print(f\"Missing data in train -> {train_df.isnull().sum()}\")"
   ],
   "id": "dd8405394bf86b47",
   "outputs": [
    {
     "name": "stdout",
     "output_type": "stream",
     "text": [
      "Missing data in test -> tBodyAcc-mean()-X       0\n",
      "tBodyAcc-mean()-Y       0\n",
      "tBodyAcc-mean()-Z       0\n",
      "tBodyAcc-std()-X        0\n",
      "tBodyAcc-std()-Y        0\n",
      "                       ..\n",
      "angle(X,gravityMean)    0\n",
      "angle(Y,gravityMean)    0\n",
      "angle(Z,gravityMean)    0\n",
      "subject                 0\n",
      "Activity                0\n",
      "Length: 542, dtype: int64\n",
      "\n",
      "Missing data in train -> tBodyAcc-mean()-X       0\n",
      "tBodyAcc-mean()-Y       0\n",
      "tBodyAcc-mean()-Z       0\n",
      "tBodyAcc-std()-X        0\n",
      "tBodyAcc-std()-Y        0\n",
      "                       ..\n",
      "angle(X,gravityMean)    0\n",
      "angle(Y,gravityMean)    0\n",
      "angle(Z,gravityMean)    0\n",
      "subject                 0\n",
      "Activity                0\n",
      "Length: 542, dtype: int64\n"
     ]
    }
   ],
   "execution_count": 46
  },
  {
   "metadata": {
    "ExecuteTime": {
     "end_time": "2025-03-15T19:34:48.162682Z",
     "start_time": "2025-03-15T19:34:48.106978Z"
    }
   },
   "cell_type": "code",
   "source": [
    "# Plot target label frequency (test)\n",
    "sns.countplot(test_df['Activity'])"
   ],
   "id": "299e2df68bbb89e8",
   "outputs": [
    {
     "data": {
      "text/plain": [
       "<Axes: xlabel='count', ylabel='Activity'>"
      ]
     },
     "execution_count": 47,
     "metadata": {},
     "output_type": "execute_result"
    },
    {
     "data": {
      "text/plain": [
       "<Figure size 640x480 with 1 Axes>"
      ],
      "image/png": "[encoded data removed]"
     },
     "metadata": {},
     "output_type": "display_data"
    }
   ],
   "execution_count": 47
  },
  {
   "metadata": {
    "ExecuteTime": {
     "end_time": "2025-03-15T19:34:48.246649Z",
     "start_time": "2025-03-15T19:34:48.185132Z"
    }
   },
   "cell_type": "code",
   "source": [
    "# Plot target label frequency (train)\n",
    "sns.countplot(train_df['Activity'])"
   ],
   "id": "8432b31c0a5c1c44",
   "outputs": [
    {
     "data": {
      "text/plain": [
       "<Axes: xlabel='count', ylabel='Activity'>"
      ]
     },
     "execution_count": 48,
     "metadata": {},
     "output_type": "execute_result"
    },
    {
     "data": {
      "text/plain": [
       "<Figure size 640x480 with 1 Axes>"
      ],
      "image/png": "[encoded data removed]"
     },
     "metadata": {},
     "output_type": "display_data"
    }
   ],
   "execution_count": 48
  },
  {
   "metadata": {
    "ExecuteTime": {
     "end_time": "2025-03-15T19:34:48.263484Z",
     "start_time": "2025-03-15T19:34:48.258350Z"
    }
   },
   "cell_type": "code",
   "source": [
    "# Isolate features from target variable\n",
    "target = train_df['Activity']\n",
    "features = train_df.drop('Activity', axis = 1)"
   ],
   "id": "b1e945335f658498",
   "outputs": [],
   "execution_count": 49
  },
  {
   "metadata": {
    "ExecuteTime": {
     "end_time": "2025-03-15T19:34:48.276993Z",
     "start_time": "2025-03-15T19:34:48.274476Z"
    }
   },
   "cell_type": "code",
   "source": [
    "# Encode labels with LabelEncoder\n",
    "label_encoder = LabelEncoder()\n",
    "target = label_encoder.fit_transform(target)"
   ],
   "id": "110a6ad08bd57e03",
   "outputs": [],
   "execution_count": 50
  },
  {
   "metadata": {
    "ExecuteTime": {
     "end_time": "2025-03-15T19:34:48.311823Z",
     "start_time": "2025-03-15T19:34:48.287491Z"
    }
   },
   "cell_type": "code",
   "source": [
    "# Partition dataset -> 80/20 split\n",
    "features_train, features_test, target_train, target_test = train_test_split(features, target, test_size=0.2, random_state=42)"
   ],
   "id": "ef9d9b580f885c5b",
   "outputs": [],
   "execution_count": 51
  },
  {
   "metadata": {
    "ExecuteTime": {
     "end_time": "2025-03-15T19:34:48.357191Z",
     "start_time": "2025-03-15T19:34:48.325946Z"
    }
   },
   "cell_type": "code",
   "source": [
    "# Normalize Features\n",
    "scaler = StandardScaler()\n",
    "features_train = scaler.fit_transform(features_train)\n",
    "features_test = scaler.transform(features_test)"
   ],
   "id": "70532884fa0c8a01",
   "outputs": [],
   "execution_count": 52
  },
  {
   "metadata": {
    "ExecuteTime": {
     "end_time": "2025-03-15T19:34:48.369500Z",
     "start_time": "2025-03-15T19:34:48.367634Z"
    }
   },
   "cell_type": "code",
   "source": [
    "# Reshape data into 3D tensor, assuming that each sample represents unique moment in time\n",
    "features_train = features_train.reshape(features_train.shape[0], 1, features_train.shape[1])\n",
    "features_test = features_test.reshape(features_test.shape[0], 1, features_test.shape[1])"
   ],
   "id": "a35606c17fcc4c1",
   "outputs": [],
   "execution_count": 53
  },
  {
   "metadata": {
    "ExecuteTime": {
     "end_time": "2025-03-15T19:34:48.429023Z",
     "start_time": "2025-03-15T19:34:48.380648Z"
    }
   },
   "cell_type": "code",
   "source": [
    "# Assemble RNN\n",
    "model = keras.models.Sequential([\n",
    "    keras.layers.LSTM(64, return_sequences = True, input_shape = (features_train.shape[1], features_train.shape[2])),\n",
    "    keras.layers.Dropout(0.2),\n",
    "    keras.layers.LSTM(32),\n",
    "    keras.layers.Dropout(0.2),\n",
    "    keras.layers.Dense(32, activation = 'relu'),\n",
    "    keras.layers.Dense(len(label_encoder.classes_), activation = 'softmax')\n",
    "])"
   ],
   "id": "18b25275649d4971",
   "outputs": [
    {
     "name": "stderr",
     "output_type": "stream",
     "text": [
      "/Users/langtowl/miniconda3/lib/python3.12/site-packages/keras/src/layers/rnn/rnn.py:200: UserWarning: Do not pass an `input_shape`/`input_dim` argument to a layer. When using Sequential models, prefer using an `Input(shape)` object as the first layer in the model instead.\n",
      "  super().__init__(**kwargs)\n"
     ]
    }
   ],
   "execution_count": 54
  },
  {
   "metadata": {
    "ExecuteTime": {
     "end_time": "2025-03-15T19:34:48.500071Z",
     "start_time": "2025-03-15T19:34:48.494488Z"
    }
   },
   "cell_type": "code",
   "source": [
    "# Compile Model\n",
    "model.compile(loss = 'sparse_categorical_crossentropy', optimizer = 'adam', metrics = ['accuracy'])"
   ],
   "id": "cf9e7176a1e2b496",
   "outputs": [],
   "execution_count": 55
  },
  {
   "metadata": {
    "ExecuteTime": {
     "end_time": "2025-03-15T19:36:45.345701Z",
     "start_time": "2025-03-15T19:35:45.555780Z"
    }
   },
   "cell_type": "code",
   "source": [
    "# Train Model\n",
    "history = model.fit(features_train, target_train, epochs = 10, batch_size = 16, validation_data =(features_test, target_test), verbose = 2)"
   ],
   "id": "239c00962e527372",
   "outputs": [
    {
     "name": "stdout",
     "output_type": "stream",
     "text": [
      "Epoch 1/10\n",
      "368/368 - 6s - 16ms/step - accuracy: 0.9633 - loss: 0.0976 - val_accuracy: 0.9748 - val_loss: 0.0792\n",
      "Epoch 2/10\n",
      "368/368 - 6s - 17ms/step - accuracy: 0.9663 - loss: 0.0908 - val_accuracy: 0.9742 - val_loss: 0.0778\n",
      "Epoch 3/10\n",
      "368/368 - 6s - 17ms/step - accuracy: 0.9731 - loss: 0.0739 - val_accuracy: 0.9708 - val_loss: 0.0873\n",
      "Epoch 4/10\n",
      "368/368 - 6s - 16ms/step - accuracy: 0.9726 - loss: 0.0767 - val_accuracy: 0.9776 - val_loss: 0.0838\n",
      "Epoch 5/10\n",
      "368/368 - 6s - 16ms/step - accuracy: 0.9787 - loss: 0.0599 - val_accuracy: 0.9674 - val_loss: 0.0837\n",
      "Epoch 6/10\n",
      "368/368 - 6s - 16ms/step - accuracy: 0.9759 - loss: 0.0642 - val_accuracy: 0.9694 - val_loss: 0.0815\n",
      "Epoch 7/10\n",
      "368/368 - 6s - 16ms/step - accuracy: 0.9784 - loss: 0.0590 - val_accuracy: 0.9782 - val_loss: 0.0757\n",
      "Epoch 8/10\n",
      "368/368 - 6s - 16ms/step - accuracy: 0.9820 - loss: 0.0533 - val_accuracy: 0.9776 - val_loss: 0.0669\n",
      "Epoch 9/10\n",
      "368/368 - 6s - 16ms/step - accuracy: 0.9849 - loss: 0.0458 - val_accuracy: 0.9762 - val_loss: 0.0820\n",
      "Epoch 10/10\n",
      "368/368 - 6s - 16ms/step - accuracy: 0.9801 - loss: 0.0555 - val_accuracy: 0.9714 - val_loss: 0.0826\n"
     ]
    }
   ],
   "execution_count": 57
  },
  {
   "metadata": {
    "ExecuteTime": {
     "end_time": "2025-03-15T19:37:00.113886Z",
     "start_time": "2025-03-15T19:36:59.591007Z"
    }
   },
   "cell_type": "code",
   "source": [
    "# Evaluate Model\n",
    "test_loss, test_acc = model.evaluate(features_test, target_test)\n",
    "print(f\"Test Accuracy: {test_acc:.4f}\")"
   ],
   "id": "85f4f83adec6d86e",
   "outputs": [
    {
     "name": "stdout",
     "output_type": "stream",
     "text": [
      "\u001B[1m46/46\u001B[0m \u001B[32m━━━━━━━━━━━━━━━━━━━━\u001B[0m\u001B[37m\u001B[0m \u001B[1m0s\u001B[0m 9ms/step - accuracy: 0.9799 - loss: 0.0538\n",
      "Test Accuracy: 0.9714\n"
     ]
    }
   ],
   "execution_count": 58
  }
 ],
 "metadata": {
  "kernelspec": {
   "display_name": "Python 3",
   "language": "python",
   "name": "python3"
  },
  "language_info": {
   "codemirror_mode": {
    "name": "ipython",
    "version": 2
   },
   "file_extension": ".py",
   "mimetype": "text/x-python",
   "name": "python",
   "nbconvert_exporter": "python",
   "pygments_lexer": "ipython2",
   "version": "2.7.6"
  }
 },
 "nbformat": 4,
 "nbformat_minor": 5
}
