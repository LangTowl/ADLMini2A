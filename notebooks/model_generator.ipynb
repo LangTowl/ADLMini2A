{
 "cells": [
  {
   "cell_type": "code",
   "id": "initial_id",
   "metadata": {
    "collapsed": true,
    "ExecuteTime": {
     "end_time": "2025-03-16T21:41:18.458919Z",
     "start_time": "2025-03-16T21:41:15.457487Z"
    }
   },
   "source": [
    "import os\n",
    "import keras\n",
    "import pandas\n",
    "import seaborn as sns\n",
    "from sklearn.preprocessing import LabelEncoder\n",
    "from sklearn.preprocessing import StandardScaler\n",
    "from sklearn.model_selection import train_test_split\n"
   ],
   "outputs": [],
   "execution_count": 1
  },
  {
   "metadata": {
    "ExecuteTime": {
     "end_time": "2025-03-16T21:41:18.466471Z",
     "start_time": "2025-03-16T21:41:18.464200Z"
    }
   },
   "cell_type": "code",
   "source": [
    "# Define paths to dataset\n",
    "path_to_test = \"../data/raw/test.csv\"\n",
    "path_to_train = \"../data/raw/train.csv\"\n",
    "\n",
    "# Validate paths to data\n",
    "print(f\"Path to test.csv -> {'VALID' if os.path.exists(path_to_test) else 'INVALID'}\")\n",
    "print(f\"Path to train.csv -> {'VALID' if os.path.exists(path_to_train) else 'INVALID'}\")"
   ],
   "id": "d43b88bf76e03f0d",
   "outputs": [
    {
     "name": "stdout",
     "output_type": "stream",
     "text": [
      "Path to test.csv -> VALID\n",
      "Path to train.csv -> VALID\n"
     ]
    }
   ],
   "execution_count": 2
  },
  {
   "metadata": {
    "ExecuteTime": {
     "end_time": "2025-03-16T21:41:18.919618Z",
     "start_time": "2025-03-16T21:41:18.535488Z"
    }
   },
   "cell_type": "code",
   "source": [
    "# Load csvs into DataFrame\n",
    "test_df = pandas.read_csv(path_to_test)\n",
    "train_df = pandas.read_csv(path_to_train)"
   ],
   "id": "b6207ea73e5f5144",
   "outputs": [],
   "execution_count": 3
  },
  {
   "metadata": {
    "ExecuteTime": {
     "end_time": "2025-03-16T21:41:18.934715Z",
     "start_time": "2025-03-16T21:41:18.932654Z"
    }
   },
   "cell_type": "code",
   "source": [
    "# Show shape of dataset (rows x columns)\n",
    "print(f\"Test shape -> {test_df.shape}\")\n",
    "print(f\"Train shape -> {train_df.shape}\")"
   ],
   "id": "6bc8f2d48e136695",
   "outputs": [
    {
     "name": "stdout",
     "output_type": "stream",
     "text": [
      "Test shape -> (2947, 563)\n",
      "Train shape -> (7352, 563)\n"
     ]
    }
   ],
   "execution_count": 4
  },
  {
   "metadata": {
    "ExecuteTime": {
     "end_time": "2025-03-16T21:41:19.088335Z",
     "start_time": "2025-03-16T21:41:18.943572Z"
    }
   },
   "cell_type": "code",
   "source": [
    "# Test for duplicates\n",
    "print(f\"Duplicates in test -> {test_df.duplicated().sum()}\")\n",
    "print(f\"Duplicates in train -> {train_df.duplicated().sum()}\")"
   ],
   "id": "cd4c34919df1bc1",
   "outputs": [
    {
     "name": "stdout",
     "output_type": "stream",
     "text": [
      "Duplicates in test -> 0\n",
      "Duplicates in train -> 0\n"
     ]
    }
   ],
   "execution_count": 5
  },
  {
   "metadata": {
    "ExecuteTime": {
     "end_time": "2025-03-16T21:41:19.968277Z",
     "start_time": "2025-03-16T21:41:19.097218Z"
    }
   },
   "cell_type": "code",
   "source": [
    "# Check columns with duplicate labels\n",
    "print(f\"Duplicate columns in test -> {len(test_df.columns[test_df.T.duplicated().tolist()])}\")\n",
    "print(f\"Duplicate columns in train -> {len(train_df.columns[train_df.T.duplicated().tolist()])}\")"
   ],
   "id": "83dcafbfb54a1dc2",
   "outputs": [
    {
     "name": "stdout",
     "output_type": "stream",
     "text": [
      "Duplicate columns in test -> 21\n",
      "Duplicate columns in train -> 21\n"
     ]
    }
   ],
   "execution_count": 6
  },
  {
   "metadata": {
    "ExecuteTime": {
     "end_time": "2025-03-16T21:41:20.809622Z",
     "start_time": "2025-03-16T21:41:19.976685Z"
    }
   },
   "cell_type": "code",
   "source": [
    "# Remove duplicates\n",
    "test_df = test_df.drop(test_df.columns[test_df.T.duplicated().tolist()], axis = 1)\n",
    "train_df = train_df.drop(train_df.columns[train_df.T.duplicated().tolist()], axis = 1)"
   ],
   "id": "aaa082f6a70d8e34",
   "outputs": [],
   "execution_count": 7
  },
  {
   "metadata": {
    "ExecuteTime": {
     "end_time": "2025-03-16T21:41:21.634044Z",
     "start_time": "2025-03-16T21:41:20.818536Z"
    }
   },
   "cell_type": "code",
   "source": [
    "# Re-check columns with duplicate labels\n",
    "print(f\"Duplicate columns in test -> {len(test_df.columns[test_df.T.duplicated().tolist()])}\")\n",
    "print(f\"Duplicate columns in train -> {len(train_df.columns[train_df.T.duplicated().tolist()])}\")"
   ],
   "id": "35b428dd0e159444",
   "outputs": [
    {
     "name": "stdout",
     "output_type": "stream",
     "text": [
      "Duplicate columns in test -> 0\n",
      "Duplicate columns in train -> 0\n"
     ]
    }
   ],
   "execution_count": 8
  },
  {
   "metadata": {
    "ExecuteTime": {
     "end_time": "2025-03-16T21:41:21.650166Z",
     "start_time": "2025-03-16T21:41:21.643302Z"
    }
   },
   "cell_type": "code",
   "source": [
    "# Test for missing values\n",
    "print(f\"Missing data in test -> {test_df.isnull().sum()}\\n\")\n",
    "print(f\"Missing data in train -> {train_df.isnull().sum()}\")"
   ],
   "id": "dd8405394bf86b47",
   "outputs": [
    {
     "name": "stdout",
     "output_type": "stream",
     "text": [
      "Missing data in test -> tBodyAcc-mean()-X       0\n",
      "tBodyAcc-mean()-Y       0\n",
      "tBodyAcc-mean()-Z       0\n",
      "tBodyAcc-std()-X        0\n",
      "tBodyAcc-std()-Y        0\n",
      "                       ..\n",
      "angle(X,gravityMean)    0\n",
      "angle(Y,gravityMean)    0\n",
      "angle(Z,gravityMean)    0\n",
      "subject                 0\n",
      "Activity                0\n",
      "Length: 542, dtype: int64\n",
      "\n",
      "Missing data in train -> tBodyAcc-mean()-X       0\n",
      "tBodyAcc-mean()-Y       0\n",
      "tBodyAcc-mean()-Z       0\n",
      "tBodyAcc-std()-X        0\n",
      "tBodyAcc-std()-Y        0\n",
      "                       ..\n",
      "angle(X,gravityMean)    0\n",
      "angle(Y,gravityMean)    0\n",
      "angle(Z,gravityMean)    0\n",
      "subject                 0\n",
      "Activity                0\n",
      "Length: 542, dtype: int64\n"
     ]
    }
   ],
   "execution_count": 9
  },
  {
   "metadata": {
    "ExecuteTime": {
     "end_time": "2025-03-16T21:41:21.751606Z",
     "start_time": "2025-03-16T21:41:21.658895Z"
    }
   },
   "cell_type": "code",
   "source": [
    "# Plot target label frequency (test)\n",
    "sns.countplot(test_df['Activity'])"
   ],
   "id": "299e2df68bbb89e8",
   "outputs": [
    {
     "data": {
      "text/plain": [
       "<Axes: xlabel='count', ylabel='Activity'>"
      ]
     },
     "execution_count": 10,
     "metadata": {},
     "output_type": "execute_result"
    },
    {
     "data": {
      "text/plain": [
       "<Figure size 640x480 with 1 Axes>"
      ],
      "image/png": "[encoded data removed]"
     },
     "metadata": {},
     "output_type": "display_data"
    }
   ],
   "execution_count": 10
  },
  {
   "metadata": {
    "ExecuteTime": {
     "end_time": "2025-03-16T21:41:21.856646Z",
     "start_time": "2025-03-16T21:41:21.772091Z"
    }
   },
   "cell_type": "code",
   "source": [
    "# Plot target label frequency (train)\n",
    "sns.countplot(train_df['Activity'])"
   ],
   "id": "8432b31c0a5c1c44",
   "outputs": [
    {
     "data": {
      "text/plain": [
       "<Axes: xlabel='count', ylabel='Activity'>"
      ]
     },
     "execution_count": 11,
     "metadata": {},
     "output_type": "execute_result"
    },
    {
     "data": {
      "text/plain": [
       "<Figure size 640x480 with 1 Axes>"
      ],
      "image/png": "[encoded data removed]"
     },
     "metadata": {},
     "output_type": "display_data"
    }
   ],
   "execution_count": 11
  },
  {
   "metadata": {
    "ExecuteTime": {
     "end_time": "2025-03-16T21:41:21.871627Z",
     "start_time": "2025-03-16T21:41:21.865848Z"
    }
   },
   "cell_type": "code",
   "source": [
    "# Isolate features from target variable\n",
    "target = train_df['Activity']\n",
    "features = train_df.drop('Activity', axis = 1)"
   ],
   "id": "b1e945335f658498",
   "outputs": [],
   "execution_count": 12
  },
  {
   "metadata": {
    "ExecuteTime": {
     "end_time": "2025-03-16T21:41:21.885005Z",
     "start_time": "2025-03-16T21:41:21.882226Z"
    }
   },
   "cell_type": "code",
   "source": [
    "# Encode labels with LabelEncoder\n",
    "label_encoder = LabelEncoder()\n",
    "target = label_encoder.fit_transform(target)"
   ],
   "id": "110a6ad08bd57e03",
   "outputs": [],
   "execution_count": 13
  },
  {
   "metadata": {
    "ExecuteTime": {
     "end_time": "2025-03-16T21:41:21.906539Z",
     "start_time": "2025-03-16T21:41:21.896045Z"
    }
   },
   "cell_type": "code",
   "source": [
    "# Partition dataset -> 80/20 split\n",
    "features_train, features_test, target_train, target_test = train_test_split(features, target, test_size=0.2, random_state=42)"
   ],
   "id": "ef9d9b580f885c5b",
   "outputs": [],
   "execution_count": 14
  },
  {
   "metadata": {
    "ExecuteTime": {
     "end_time": "2025-03-16T21:41:21.951022Z",
     "start_time": "2025-03-16T21:41:21.921268Z"
    }
   },
   "cell_type": "code",
   "source": [
    "# Normalize Features\n",
    "scaler = StandardScaler()\n",
    "features_train = scaler.fit_transform(features_train)\n",
    "features_test = scaler.transform(features_test)"
   ],
   "id": "70532884fa0c8a01",
   "outputs": [],
   "execution_count": 15
  },
  {
   "metadata": {
    "ExecuteTime": {
     "end_time": "2025-03-16T21:41:21.964066Z",
     "start_time": "2025-03-16T21:41:21.962051Z"
    }
   },
   "cell_type": "code",
   "source": [
    "# Reshape data into 3D tensor, assuming that each sample represents unique moment in time\n",
    "features_train = features_train.reshape(features_train.shape[0], 1, features_train.shape[1])\n",
    "features_test = features_test.reshape(features_test.shape[0], 1, features_test.shape[1])"
   ],
   "id": "a35606c17fcc4c1",
   "outputs": [],
   "execution_count": 16
  },
  {
   "metadata": {
    "ExecuteTime": {
     "end_time": "2025-03-16T21:41:22.230630Z",
     "start_time": "2025-03-16T21:41:21.977153Z"
    }
   },
   "cell_type": "code",
   "source": [
    "# Assemble RNN\n",
    "model = keras.models.Sequential([\n",
    "    # 64 processing cells, output full cell sequence\n",
    "    keras.layers.LSTM(64, return_sequences = True, input_shape = (features_train.shape[1], features_train.shape[2])),\n",
    "\n",
    "    # Randomly deactivate 20% of processing cells\n",
    "    keras.layers.Dropout(0.2),\n",
    "\n",
    "    # 32 processing cells, no output of cell sequence\n",
    "    keras.layers.LSTM(32),\n",
    "\n",
    "    # Randomly deactivate 20% of processing cells\n",
    "    keras.layers.Dropout(0.2),\n",
    "\n",
    "    # 32 neuron fully-connected dense layer, Rectified Linear Unit activation\n",
    "    keras.layers.Dense(32, activation = 'relu'),\n",
    "\n",
    "    # Output layer\n",
    "    keras.layers.Dense(len(label_encoder.classes_), activation = 'softmax')\n",
    "])"
   ],
   "id": "18b25275649d4971",
   "outputs": [
    {
     "name": "stderr",
     "output_type": "stream",
     "text": [
      "2025-03-16 17:41:21.984446: I metal_plugin/src/device/metal_device.cc:1154] Metal device set to: Apple M1 Pro\n",
      "2025-03-16 17:41:21.984637: I metal_plugin/src/device/metal_device.cc:296] systemMemory: 16.00 GB\n",
      "2025-03-16 17:41:21.984641: I metal_plugin/src/device/metal_device.cc:313] maxCacheSize: 5.33 GB\n",
      "WARNING: All log messages before absl::InitializeLog() is called are written to STDERR\n",
      "I0000 00:00:1742161281.985126  367171 pluggable_device_factory.cc:305] Could not identify NUMA node of platform GPU ID 0, defaulting to 0. Your kernel may not have been built with NUMA support.\n",
      "I0000 00:00:1742161281.985190  367171 pluggable_device_factory.cc:271] Created TensorFlow device (/job:localhost/replica:0/task:0/device:GPU:0 with 0 MB memory) -> physical PluggableDevice (device: 0, name: METAL, pci bus id: <undefined>)\n",
      "/Users/langtowl/miniconda3/lib/python3.12/site-packages/keras/src/layers/rnn/rnn.py:200: UserWarning: Do not pass an `input_shape`/`input_dim` argument to a layer. When using Sequential models, prefer using an `Input(shape)` object as the first layer in the model instead.\n",
      "  super().__init__(**kwargs)\n"
     ]
    }
   ],
   "execution_count": 17
  },
  {
   "metadata": {
    "ExecuteTime": {
     "end_time": "2025-03-16T21:46:45.309302Z",
     "start_time": "2025-03-16T21:46:45.306703Z"
    }
   },
   "cell_type": "code",
   "source": [
    "# Save best model\n",
    "checkpoint = keras.callbacks.ModelCheckpoint(\n",
    "    filepath = '../models/best_model.h5',\n",
    "    monitor = 'val_loss',\n",
    "    save_best_only = True,\n",
    "    mode = 'min',\n",
    "    verbose = 0\n",
    ")\n",
    "\n",
    "# Early stopping config\n",
    "early_stopping = keras.callbacks.EarlyStopping(\n",
    "    monitor = 'val_loss',\n",
    "    patience = 5,\n",
    "    restore_best_weights = True,\n",
    "    verbose = 0\n",
    ")"
   ],
   "id": "b9c2de37ded0c3b5",
   "outputs": [],
   "execution_count": 25
  },
  {
   "metadata": {
    "ExecuteTime": {
     "end_time": "2025-03-16T21:46:46.902937Z",
     "start_time": "2025-03-16T21:46:46.839168Z"
    }
   },
   "cell_type": "code",
   "source": [
    "# Compile Model\n",
    "model.compile(loss = 'sparse_categorical_crossentropy', optimizer = 'adam', metrics = ['accuracy'])"
   ],
   "id": "cf9e7176a1e2b496",
   "outputs": [],
   "execution_count": 26
  },
  {
   "metadata": {
    "ExecuteTime": {
     "end_time": "2025-03-16T21:48:50.128942Z",
     "start_time": "2025-03-16T21:46:49.253168Z"
    }
   },
   "cell_type": "code",
   "source": [
    "# Train Model\n",
    "history = model.fit(features_train, target_train, epochs = 40, batch_size = 32, validation_data = (features_test, target_test), callbacks = [checkpoint], verbose = 2)"
   ],
   "id": "239c00962e527372",
   "outputs": [
    {
     "name": "stdout",
     "output_type": "stream",
     "text": [
      "Epoch 1/40\n"
     ]
    },
    {
     "name": "stderr",
     "output_type": "stream",
     "text": [
      "WARNING:absl:You are saving your model as an HDF5 file via `model.save()` or `keras.saving.save_model(model)`. This file format is considered legacy. We recommend using instead the native Keras format, e.g. `model.save('my_model.keras')` or `keras.saving.save_model(model, 'my_model.keras')`. \n"
     ]
    },
    {
     "name": "stdout",
     "output_type": "stream",
     "text": [
      "184/184 - 4s - 24ms/step - accuracy: 0.9764 - loss: 0.0630 - val_accuracy: 0.9762 - val_loss: 0.0733\n",
      "Epoch 2/40\n",
      "184/184 - 3s - 16ms/step - accuracy: 0.9755 - loss: 0.0616 - val_accuracy: 0.9572 - val_loss: 0.1179\n",
      "Epoch 3/40\n",
      "184/184 - 3s - 16ms/step - accuracy: 0.9803 - loss: 0.0523 - val_accuracy: 0.9762 - val_loss: 0.0763\n",
      "Epoch 4/40\n"
     ]
    },
    {
     "name": "stderr",
     "output_type": "stream",
     "text": [
      "WARNING:absl:You are saving your model as an HDF5 file via `model.save()` or `keras.saving.save_model(model)`. This file format is considered legacy. We recommend using instead the native Keras format, e.g. `model.save('my_model.keras')` or `keras.saving.save_model(model, 'my_model.keras')`. \n"
     ]
    },
    {
     "name": "stdout",
     "output_type": "stream",
     "text": [
      "184/184 - 3s - 16ms/step - accuracy: 0.9849 - loss: 0.0412 - val_accuracy: 0.9755 - val_loss: 0.0717\n",
      "Epoch 5/40\n",
      "184/184 - 3s - 17ms/step - accuracy: 0.9813 - loss: 0.0494 - val_accuracy: 0.9776 - val_loss: 0.0832\n",
      "Epoch 6/40\n",
      "184/184 - 3s - 16ms/step - accuracy: 0.9811 - loss: 0.0476 - val_accuracy: 0.9748 - val_loss: 0.0722\n",
      "Epoch 7/40\n"
     ]
    },
    {
     "name": "stderr",
     "output_type": "stream",
     "text": [
      "WARNING:absl:You are saving your model as an HDF5 file via `model.save()` or `keras.saving.save_model(model)`. This file format is considered legacy. We recommend using instead the native Keras format, e.g. `model.save('my_model.keras')` or `keras.saving.save_model(model, 'my_model.keras')`. \n"
     ]
    },
    {
     "name": "stdout",
     "output_type": "stream",
     "text": [
      "184/184 - 3s - 16ms/step - accuracy: 0.9813 - loss: 0.0503 - val_accuracy: 0.9748 - val_loss: 0.0661\n",
      "Epoch 8/40\n",
      "184/184 - 3s - 16ms/step - accuracy: 0.9852 - loss: 0.0390 - val_accuracy: 0.9769 - val_loss: 0.0698\n",
      "Epoch 9/40\n",
      "184/184 - 3s - 16ms/step - accuracy: 0.9867 - loss: 0.0357 - val_accuracy: 0.9769 - val_loss: 0.0743\n",
      "Epoch 10/40\n"
     ]
    },
    {
     "name": "stderr",
     "output_type": "stream",
     "text": [
      "WARNING:absl:You are saving your model as an HDF5 file via `model.save()` or `keras.saving.save_model(model)`. This file format is considered legacy. We recommend using instead the native Keras format, e.g. `model.save('my_model.keras')` or `keras.saving.save_model(model, 'my_model.keras')`. \n"
     ]
    },
    {
     "name": "stdout",
     "output_type": "stream",
     "text": [
      "184/184 - 3s - 17ms/step - accuracy: 0.9913 - loss: 0.0273 - val_accuracy: 0.9830 - val_loss: 0.0652\n",
      "Epoch 11/40\n",
      "184/184 - 3s - 16ms/step - accuracy: 0.9847 - loss: 0.0411 - val_accuracy: 0.9735 - val_loss: 0.0751\n",
      "Epoch 12/40\n"
     ]
    },
    {
     "name": "stderr",
     "output_type": "stream",
     "text": [
      "WARNING:absl:You are saving your model as an HDF5 file via `model.save()` or `keras.saving.save_model(model)`. This file format is considered legacy. We recommend using instead the native Keras format, e.g. `model.save('my_model.keras')` or `keras.saving.save_model(model, 'my_model.keras')`. \n"
     ]
    },
    {
     "name": "stdout",
     "output_type": "stream",
     "text": [
      "184/184 - 3s - 17ms/step - accuracy: 0.9900 - loss: 0.0283 - val_accuracy: 0.9850 - val_loss: 0.0556\n",
      "Epoch 13/40\n",
      "184/184 - 3s - 16ms/step - accuracy: 0.9859 - loss: 0.0339 - val_accuracy: 0.9816 - val_loss: 0.0617\n",
      "Epoch 14/40\n",
      "184/184 - 3s - 16ms/step - accuracy: 0.9818 - loss: 0.0520 - val_accuracy: 0.9816 - val_loss: 0.0572\n",
      "Epoch 15/40\n",
      "184/184 - 3s - 16ms/step - accuracy: 0.9905 - loss: 0.0279 - val_accuracy: 0.9816 - val_loss: 0.0658\n",
      "Epoch 16/40\n",
      "184/184 - 3s - 16ms/step - accuracy: 0.9906 - loss: 0.0269 - val_accuracy: 0.9823 - val_loss: 0.0786\n",
      "Epoch 17/40\n",
      "184/184 - 3s - 16ms/step - accuracy: 0.9913 - loss: 0.0214 - val_accuracy: 0.9837 - val_loss: 0.0621\n",
      "Epoch 18/40\n",
      "184/184 - 3s - 16ms/step - accuracy: 0.9872 - loss: 0.0350 - val_accuracy: 0.9850 - val_loss: 0.0603\n",
      "Epoch 19/40\n",
      "184/184 - 3s - 16ms/step - accuracy: 0.9891 - loss: 0.0281 - val_accuracy: 0.9803 - val_loss: 0.0598\n",
      "Epoch 20/40\n",
      "184/184 - 3s - 16ms/step - accuracy: 0.9929 - loss: 0.0173 - val_accuracy: 0.9850 - val_loss: 0.0597\n",
      "Epoch 21/40\n",
      "184/184 - 3s - 16ms/step - accuracy: 0.9900 - loss: 0.0249 - val_accuracy: 0.9837 - val_loss: 0.0706\n",
      "Epoch 22/40\n",
      "184/184 - 3s - 16ms/step - accuracy: 0.9968 - loss: 0.0116 - val_accuracy: 0.9823 - val_loss: 0.0659\n",
      "Epoch 23/40\n",
      "184/184 - 3s - 16ms/step - accuracy: 0.9939 - loss: 0.0172 - val_accuracy: 0.9850 - val_loss: 0.0597\n",
      "Epoch 24/40\n",
      "184/184 - 3s - 16ms/step - accuracy: 0.9934 - loss: 0.0177 - val_accuracy: 0.9816 - val_loss: 0.0910\n",
      "Epoch 25/40\n"
     ]
    },
    {
     "name": "stderr",
     "output_type": "stream",
     "text": [
      "WARNING:absl:You are saving your model as an HDF5 file via `model.save()` or `keras.saving.save_model(model)`. This file format is considered legacy. We recommend using instead the native Keras format, e.g. `model.save('my_model.keras')` or `keras.saving.save_model(model, 'my_model.keras')`. \n"
     ]
    },
    {
     "name": "stdout",
     "output_type": "stream",
     "text": [
      "184/184 - 3s - 16ms/step - accuracy: 0.9935 - loss: 0.0181 - val_accuracy: 0.9857 - val_loss: 0.0544\n",
      "Epoch 26/40\n"
     ]
    },
    {
     "name": "stderr",
     "output_type": "stream",
     "text": [
      "WARNING:absl:You are saving your model as an HDF5 file via `model.save()` or `keras.saving.save_model(model)`. This file format is considered legacy. We recommend using instead the native Keras format, e.g. `model.save('my_model.keras')` or `keras.saving.save_model(model, 'my_model.keras')`. \n"
     ]
    },
    {
     "name": "stdout",
     "output_type": "stream",
     "text": [
      "184/184 - 3s - 16ms/step - accuracy: 0.9947 - loss: 0.0182 - val_accuracy: 0.9878 - val_loss: 0.0521\n",
      "Epoch 27/40\n",
      "184/184 - 3s - 16ms/step - accuracy: 0.9932 - loss: 0.0204 - val_accuracy: 0.9830 - val_loss: 0.0623\n",
      "Epoch 28/40\n",
      "184/184 - 3s - 16ms/step - accuracy: 0.9934 - loss: 0.0170 - val_accuracy: 0.9871 - val_loss: 0.0539\n",
      "Epoch 29/40\n",
      "184/184 - 3s - 16ms/step - accuracy: 0.9947 - loss: 0.0145 - val_accuracy: 0.9830 - val_loss: 0.0541\n",
      "Epoch 30/40\n"
     ]
    },
    {
     "name": "stderr",
     "output_type": "stream",
     "text": [
      "WARNING:absl:You are saving your model as an HDF5 file via `model.save()` or `keras.saving.save_model(model)`. This file format is considered legacy. We recommend using instead the native Keras format, e.g. `model.save('my_model.keras')` or `keras.saving.save_model(model, 'my_model.keras')`. \n"
     ]
    },
    {
     "name": "stdout",
     "output_type": "stream",
     "text": [
      "184/184 - 3s - 16ms/step - accuracy: 0.9971 - loss: 0.0088 - val_accuracy: 0.9864 - val_loss: 0.0502\n",
      "Epoch 31/40\n"
     ]
    },
    {
     "name": "stderr",
     "output_type": "stream",
     "text": [
      "WARNING:absl:You are saving your model as an HDF5 file via `model.save()` or `keras.saving.save_model(model)`. This file format is considered legacy. We recommend using instead the native Keras format, e.g. `model.save('my_model.keras')` or `keras.saving.save_model(model, 'my_model.keras')`. \n"
     ]
    },
    {
     "name": "stdout",
     "output_type": "stream",
     "text": [
      "184/184 - 3s - 16ms/step - accuracy: 0.9923 - loss: 0.0211 - val_accuracy: 0.9837 - val_loss: 0.0499\n",
      "Epoch 32/40\n",
      "184/184 - 3s - 16ms/step - accuracy: 0.9981 - loss: 0.0069 - val_accuracy: 0.9864 - val_loss: 0.0659\n",
      "Epoch 33/40\n",
      "184/184 - 3s - 16ms/step - accuracy: 0.9923 - loss: 0.0190 - val_accuracy: 0.9823 - val_loss: 0.0593\n",
      "Epoch 34/40\n",
      "184/184 - 3s - 16ms/step - accuracy: 0.9935 - loss: 0.0173 - val_accuracy: 0.9850 - val_loss: 0.0653\n",
      "Epoch 35/40\n",
      "184/184 - 3s - 16ms/step - accuracy: 0.9947 - loss: 0.0146 - val_accuracy: 0.9864 - val_loss: 0.0580\n",
      "Epoch 36/40\n",
      "184/184 - 3s - 16ms/step - accuracy: 0.9942 - loss: 0.0168 - val_accuracy: 0.9857 - val_loss: 0.0554\n",
      "Epoch 37/40\n",
      "184/184 - 3s - 16ms/step - accuracy: 0.9957 - loss: 0.0150 - val_accuracy: 0.9850 - val_loss: 0.0584\n",
      "Epoch 38/40\n",
      "184/184 - 3s - 16ms/step - accuracy: 0.9956 - loss: 0.0127 - val_accuracy: 0.9823 - val_loss: 0.0617\n",
      "Epoch 39/40\n",
      "184/184 - 3s - 16ms/step - accuracy: 0.9939 - loss: 0.0169 - val_accuracy: 0.9803 - val_loss: 0.0931\n",
      "Epoch 40/40\n",
      "184/184 - 3s - 16ms/step - accuracy: 0.9906 - loss: 0.0266 - val_accuracy: 0.9850 - val_loss: 0.0569\n"
     ]
    }
   ],
   "execution_count": 27
  },
  {
   "metadata": {
    "ExecuteTime": {
     "end_time": "2025-03-16T21:49:07.266424Z",
     "start_time": "2025-03-16T21:49:06.962779Z"
    }
   },
   "cell_type": "code",
   "source": [
    "# Evaluate Model\n",
    "test_loss, test_acc = model.evaluate(features_test, target_test)\n",
    "print(f\"Test Accuracy: {test_acc:.4f}\")"
   ],
   "id": "85f4f83adec6d86e",
   "outputs": [
    {
     "name": "stdout",
     "output_type": "stream",
     "text": [
      "\u001B[1m46/46\u001B[0m \u001B[32m━━━━━━━━━━━━━━━━━━━━\u001B[0m\u001B[37m\u001B[0m \u001B[1m0s\u001B[0m 6ms/step - accuracy: 0.9902 - loss: 0.0335\n",
      "Test Accuracy: 0.9850\n"
     ]
    }
   ],
   "execution_count": 28
  }
 ],
 "metadata": {
  "kernelspec": {
   "display_name": "Python 3",
   "language": "python",
   "name": "python3"
  },
  "language_info": {
   "codemirror_mode": {
    "name": "ipython",
    "version": 2
   },
   "file_extension": ".py",
   "mimetype": "text/x-python",
   "name": "python",
   "nbconvert_exporter": "python",
   "pygments_lexer": "ipython2",
   "version": "2.7.6"
  }
 },
 "nbformat": 4,
 "nbformat_minor": 5
}
